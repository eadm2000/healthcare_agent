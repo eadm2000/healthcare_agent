{
  "nbformat": 4,
  "nbformat_minor": 0,
  "metadata": {
    "colab": {
      "provenance": [],
      "authorship_tag": "ABX9TyPGIOXqrUodb8noLHLZk8wU",
      "include_colab_link": true
    },
    "kernelspec": {
      "name": "python3",
      "display_name": "Python 3"
    },
    "language_info": {
      "name": "python"
    }
  },
  "cells": [
    {
      "cell_type": "markdown",
      "metadata": {
        "id": "view-in-github",
        "colab_type": "text"
      },
      "source": [
        "<a href=\"https://colab.research.google.com/github/eadm2000/healthcare_agent/blob/main/gcolab_hackathon.ipynb\" target=\"_parent\"><img src=\"https://colab.research.google.com/assets/colab-badge.svg\" alt=\"Open In Colab\"/></a>"
      ]
    },
    {
      "cell_type": "markdown",
      "source": [
        "#MS Hackathon 2025"
      ],
      "metadata": {
        "id": "MV6KZf0RJ41S"
      }
    },
    {
      "cell_type": "code",
      "source": [
        "import pandas as pd\n",
        "import numpy as np\n",
        "import seaborn as sns"
      ],
      "metadata": {
        "id": "D0H_Djk2J4cE"
      },
      "execution_count": 2,
      "outputs": []
    },
    {
      "cell_type": "markdown",
      "source": [
        "##EDA on data"
      ],
      "metadata": {
        "id": "OkhnraqBJ4sK"
      }
    },
    {
      "cell_type": "code",
      "source": [],
      "metadata": {
        "id": "gzTNGT2OLXbV"
      },
      "execution_count": null,
      "outputs": []
    }
  ]
}